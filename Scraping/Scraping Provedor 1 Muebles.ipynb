{
 "cells": [
  {
   "cell_type": "markdown",
   "metadata": {},
   "source": [
    "# Objective: To collect information  about suppliers of furniture"
   ]
  },
  {
   "cell_type": "code",
   "execution_count": null,
   "metadata": {},
   "outputs": [],
   "source": [
    "#Import Dependencies\n",
    "import requests\n",
    "import csv\n",
    "import pandas as pd\n",
    "from bs4 import BeautifulSoup\n",
    "import sys\n",
    "import json"
   ]
  },
  {
   "cell_type": "code",
   "execution_count": 89,
   "metadata": {},
   "outputs": [],
   "source": [
    "# Loop to extract information from Muebles Pergo\n",
    "urls ='https://www.mueblespergo.com/pages/nuestras-tiendas'\n",
    "sucursales=[]\n",
    "r=requests.get(urls)\n",
    "soup = BeautifulSoup(r.content)\n",
    "sucur= soup.findAll(\"div\",{\"class\":[\"sucursal-content\",\"value\"]})\n",
    "for row in  sucur:\n",
    "    data= row.text\n",
    "    sucursales.append(data)\n"
   ]
  },
  {
   "cell_type": "code",
   "execution_count": 91,
   "metadata": {},
   "outputs": [
    {
     "name": "stdout",
     "output_type": "stream",
     "text": [
      "[' Altavista # 25, San Ángel01000 Álvaro Obregón, DF. México¿Cómo llegar?\\n Teléfono: (55) 5616 9002, (55) 5550 2583\\nHorario:Lunes a jueves 10:30AM - 8:30PMViernes 10:30AM - 8:00PMSábado 10:30AM - 8:30PMDomingo 11:00AM - 7:00PM', ' Anillo Vial Fray Junípero Serra 7901Santiago Queretaro, C.P. 76146¿Cómo llegar?\\n Teléfono: 442-193-7240\\nHorario:Lunes a domingo 11:00AM - 9:00PM', ' Plaza Malecón AméricasAv. Bonampak SM 6 MZ 1 LT 177500 Cancún, Q ROO. México¿Cómo llegar?\\n Teléfono: (99) 8889 9653, (99) 8982 2350\\nHorario:Lunes a jueves 10:30AM - 8:30PMViernes 10:30AM - 8:00PMSábado 10:30AM - 8:30PMDomingo 11:00AM - 7:00PM', ' Centro Comercial InterlomasBlvd Interlomas 5, Lomas Anáhuac52760 Huixquilucan de Degollado, MEX. México¿Cómo llegar?\\n Teléfono: (55) 5290 7785, (55) 5247 7196\\nHorario:Lunes a jueves 10:30AM - 8:30PMViernes 10:30AM - 8:00PMSábado 10:30AM - 8:30PMDomingo 11:00AM - 7:00PM', ' Paseo Interlomas OUTDOORVialidad de La Barranca 6Bosque de las Palmas52787 Huixquilucan, MEX. México¿Cómo llegar?\\n Teléfono: (55) 21558550\\nHorario:Lunes a jueves 10:30AM - 8:30PMViernes 10:30AM - 8:00PMSábado 10:30AM - 8:30PMDomingo 11:00AM - 7:00PM', 'La Isla Angelópolis Osa Mayor 2902Interior 11Concepción De La Cruz, Heroica Puebla de Zaragoza¿Cómo llegar?\\n Teléfono: 222 290 3859 222 688 7387\\nHorario:Lunes a sábado 10:30AM - 8:30PMDomingo 11:00AM - 7:00PM', ' Paseo InterlomasLocales APB-20 y APB-21Vialidad de La Barranca 6Bosque de las Palmas52787 Huixquilucan, MEX. México¿Cómo llegar?\\n\\xa0\\n Teléfono: (55) 5245 0249\\nHorario:Lunes a domingo 11:00AM - 9:00PM', ' Homero #812, Polanco11570 Miguel Hidalgo, DF. México¿Cómo llegar?\\n Teléfono: (55) 5280 2707, (55) 5282 2129\\nHorario:Lunes a jueves 10:30AM - 8:30PMViernes 10:30AM - 8:00PMSábado 10:30AM - 8:30PMDomingo 11:00AM - 7:00PM', ' Prado Norte # 470Col. Lomas de Chapultepec Delegación Miguel Hidalgo11000 México, DF, México¿Cómo llegar?\\n Teléfono: (55) 5202 0259, (55) 2623 0675\\nHorario:Lunes a viernes 10:30AM - 8:30PMSábado 10:30AM - 8:30PMDomingo 10:30AM - 7:00PM', ' Centro Comercial Santa FeAv. Vasco de Quiroga Segundo Nivel, L-152005109 Cuajimalpa, DF, México¿Cómo llegar?\\n Teléfono: (55) 2167 8566, (55) 2167 4242\\nHorario:Lunes a domingo 11:00AM - 9:00PM', ' Circuitos Cirujanos 7, Ciudad Satélite53100 Ciudad Satélite,MEX. México¿Cómo llegar?\\n Teléfono: (55) 5393 4035, (55) 5393 3955\\nHorario:Lunes a jueves 10:30AM - 8:30PMViernes 10:30AM - 8:00PMSábado 10:30AM - 8:30PMDomingo 11:00AM - 7:00PM\\n']\n"
     ]
    }
   ],
   "source": [
    "print (sucursales)"
   ]
  },
  {
   "cell_type": "code",
   "execution_count": 93,
   "metadata": {},
   "outputs": [],
   "source": [
    "#Storing information in Data Frame\n",
    "sucursalesdf=pd.DataFrame(sucursales)"
   ]
  },
  {
   "cell_type": "code",
   "execution_count": 94,
   "metadata": {},
   "outputs": [
    {
     "data": {
      "text/html": [
       "<div>\n",
       "<style scoped>\n",
       "    .dataframe tbody tr th:only-of-type {\n",
       "        vertical-align: middle;\n",
       "    }\n",
       "\n",
       "    .dataframe tbody tr th {\n",
       "        vertical-align: top;\n",
       "    }\n",
       "\n",
       "    .dataframe thead th {\n",
       "        text-align: right;\n",
       "    }\n",
       "</style>\n",
       "<table border=\"1\" class=\"dataframe\">\n",
       "  <thead>\n",
       "    <tr style=\"text-align: right;\">\n",
       "      <th></th>\n",
       "      <th>0</th>\n",
       "    </tr>\n",
       "  </thead>\n",
       "  <tbody>\n",
       "    <tr>\n",
       "      <th>0</th>\n",
       "      <td>Altavista # 25, San Ángel01000 Álvaro Obregón...</td>\n",
       "    </tr>\n",
       "    <tr>\n",
       "      <th>1</th>\n",
       "      <td>Anillo Vial Fray Junípero Serra 7901Santiago ...</td>\n",
       "    </tr>\n",
       "    <tr>\n",
       "      <th>2</th>\n",
       "      <td>Plaza Malecón AméricasAv. Bonampak SM 6 MZ 1 ...</td>\n",
       "    </tr>\n",
       "    <tr>\n",
       "      <th>3</th>\n",
       "      <td>Centro Comercial InterlomasBlvd Interlomas 5,...</td>\n",
       "    </tr>\n",
       "    <tr>\n",
       "      <th>4</th>\n",
       "      <td>Paseo Interlomas OUTDOORVialidad de La Barran...</td>\n",
       "    </tr>\n",
       "    <tr>\n",
       "      <th>5</th>\n",
       "      <td>La Isla Angelópolis Osa Mayor 2902Interior 11C...</td>\n",
       "    </tr>\n",
       "    <tr>\n",
       "      <th>6</th>\n",
       "      <td>Paseo InterlomasLocales APB-20 y APB-21Vialid...</td>\n",
       "    </tr>\n",
       "    <tr>\n",
       "      <th>7</th>\n",
       "      <td>Homero #812, Polanco11570 Miguel Hidalgo, DF....</td>\n",
       "    </tr>\n",
       "    <tr>\n",
       "      <th>8</th>\n",
       "      <td>Prado Norte # 470Col. Lomas de Chapultepec De...</td>\n",
       "    </tr>\n",
       "    <tr>\n",
       "      <th>9</th>\n",
       "      <td>Centro Comercial Santa FeAv. Vasco de Quiroga...</td>\n",
       "    </tr>\n",
       "    <tr>\n",
       "      <th>10</th>\n",
       "      <td>Circuitos Cirujanos 7, Ciudad Satélite53100 C...</td>\n",
       "    </tr>\n",
       "  </tbody>\n",
       "</table>\n",
       "</div>"
      ],
      "text/plain": [
       "                                                    0\n",
       "0    Altavista # 25, San Ángel01000 Álvaro Obregón...\n",
       "1    Anillo Vial Fray Junípero Serra 7901Santiago ...\n",
       "2    Plaza Malecón AméricasAv. Bonampak SM 6 MZ 1 ...\n",
       "3    Centro Comercial InterlomasBlvd Interlomas 5,...\n",
       "4    Paseo Interlomas OUTDOORVialidad de La Barran...\n",
       "5   La Isla Angelópolis Osa Mayor 2902Interior 11C...\n",
       "6    Paseo InterlomasLocales APB-20 y APB-21Vialid...\n",
       "7    Homero #812, Polanco11570 Miguel Hidalgo, DF....\n",
       "8    Prado Norte # 470Col. Lomas de Chapultepec De...\n",
       "9    Centro Comercial Santa FeAv. Vasco de Quiroga...\n",
       "10   Circuitos Cirujanos 7, Ciudad Satélite53100 C..."
      ]
     },
     "execution_count": 94,
     "metadata": {},
     "output_type": "execute_result"
    }
   ],
   "source": [
    "sucursalesdf"
   ]
  },
  {
   "cell_type": "code",
   "execution_count": 105,
   "metadata": {},
   "outputs": [],
   "source": [
    "# After some manipulation we can read the content as a Data Frame\n",
    "sucursalesMuebles=pd.read_csv('sucursalesmuebles.csv')"
   ]
  },
  {
   "cell_type": "code",
   "execution_count": 106,
   "metadata": {},
   "outputs": [
    {
     "data": {
      "text/html": [
       "<div>\n",
       "<style scoped>\n",
       "    .dataframe tbody tr th:only-of-type {\n",
       "        vertical-align: middle;\n",
       "    }\n",
       "\n",
       "    .dataframe tbody tr th {\n",
       "        vertical-align: top;\n",
       "    }\n",
       "\n",
       "    .dataframe thead th {\n",
       "        text-align: right;\n",
       "    }\n",
       "</style>\n",
       "<table border=\"1\" class=\"dataframe\">\n",
       "  <thead>\n",
       "    <tr style=\"text-align: right;\">\n",
       "      <th></th>\n",
       "      <th>Unnamed: 0</th>\n",
       "      <th>Nombre</th>\n",
       "      <th>Dirección</th>\n",
       "      <th>Municipio o Delegación</th>\n",
       "    </tr>\n",
       "  </thead>\n",
       "  <tbody>\n",
       "    <tr>\n",
       "      <th>0</th>\n",
       "      <td>0</td>\n",
       "      <td>Altavista</td>\n",
       "      <td>Altavista # 25, San Angel 01000</td>\n",
       "      <td>Alvaro Obregon</td>\n",
       "    </tr>\n",
       "    <tr>\n",
       "      <th>1</th>\n",
       "      <td>1</td>\n",
       "      <td>Anillo Vial</td>\n",
       "      <td>Anillo Vial Fray Junipero Serra 7901</td>\n",
       "      <td>Santiago Queretaro</td>\n",
       "    </tr>\n",
       "    <tr>\n",
       "      <th>2</th>\n",
       "      <td>2</td>\n",
       "      <td>Plaza Americas</td>\n",
       "      <td>Plaza Malecon AmericasAv. Bonampak SM 6 MZ 1 ...</td>\n",
       "      <td>Cancun</td>\n",
       "    </tr>\n",
       "    <tr>\n",
       "      <th>3</th>\n",
       "      <td>3</td>\n",
       "      <td>Centro Comercial Interlomas</td>\n",
       "      <td>Centro Comercial Interlomas Blvd Interlomas 5</td>\n",
       "      <td>Huixquilucan de Degollado</td>\n",
       "    </tr>\n",
       "    <tr>\n",
       "      <th>4</th>\n",
       "      <td>4</td>\n",
       "      <td>Paseo Interlomas</td>\n",
       "      <td>Vialidad de La Barranca 6 Bosque de las Palma...</td>\n",
       "      <td>Huixquilucan</td>\n",
       "    </tr>\n",
       "    <tr>\n",
       "      <th>5</th>\n",
       "      <td>5</td>\n",
       "      <td>La Isla</td>\n",
       "      <td>Angelopolis Osa Mayor 2902 Interior 11 Concep...</td>\n",
       "      <td>Heroica Puebla de Zaragoza</td>\n",
       "    </tr>\n",
       "    <tr>\n",
       "      <th>6</th>\n",
       "      <td>6</td>\n",
       "      <td>Paseo Interlomas II</td>\n",
       "      <td>Locales APB-20 y APB-21Vialidad de La Barranca...</td>\n",
       "      <td>Huixquilucan</td>\n",
       "    </tr>\n",
       "  </tbody>\n",
       "</table>\n",
       "</div>"
      ],
      "text/plain": [
       "   Unnamed: 0                        Nombre  \\\n",
       "0           0                     Altavista   \n",
       "1           1                   Anillo Vial   \n",
       "2           2                Plaza Americas   \n",
       "3           3   Centro Comercial Interlomas   \n",
       "4           4             Paseo Interlomas    \n",
       "5           5                      La Isla    \n",
       "6           6           Paseo Interlomas II   \n",
       "\n",
       "                                           Dirección  \\\n",
       "0                   Altavista # 25, San Angel 01000    \n",
       "1               Anillo Vial Fray Junipero Serra 7901   \n",
       "2   Plaza Malecon AmericasAv. Bonampak SM 6 MZ 1 ...   \n",
       "3      Centro Comercial Interlomas Blvd Interlomas 5   \n",
       "4   Vialidad de La Barranca 6 Bosque de las Palma...   \n",
       "5   Angelopolis Osa Mayor 2902 Interior 11 Concep...   \n",
       "6  Locales APB-20 y APB-21Vialidad de La Barranca...   \n",
       "\n",
       "        Municipio o Delegación  \n",
       "0               Alvaro Obregon  \n",
       "1           Santiago Queretaro  \n",
       "2                       Cancun  \n",
       "3    Huixquilucan de Degollado  \n",
       "4                 Huixquilucan  \n",
       "5   Heroica Puebla de Zaragoza  \n",
       "6                 Huixquilucan  "
      ]
     },
     "execution_count": 106,
     "metadata": {},
     "output_type": "execute_result"
    }
   ],
   "source": [
    "sucursalesMuebles"
   ]
  },
  {
   "cell_type": "code",
   "execution_count": 107,
   "metadata": {},
   "outputs": [],
   "source": [
    "#We add a column with the name of Supplier , we will store this information with the information of Labs and other Supplier\n",
    "sucursalesMuebles['Proveedor']='Muebles Pergo'"
   ]
  },
  {
   "cell_type": "code",
   "execution_count": 110,
   "metadata": {},
   "outputs": [],
   "source": [
    "\n",
    "sucursalesMuebles=sucursalesMuebles[['Proveedor','Nombre','Dirección','Municipio o Delegación']]"
   ]
  },
  {
   "cell_type": "code",
   "execution_count": 112,
   "metadata": {},
   "outputs": [],
   "source": [
    "#We rename some columns in order to facilitate the undestanding of this information\n",
    "sucursalesMuebles=sucursalesMuebles.rename(columns={'Nombre':'Nombre sucursal','Municipio o Delegación':'Delegación o municipio'})"
   ]
  },
  {
   "cell_type": "code",
   "execution_count": 113,
   "metadata": {},
   "outputs": [
    {
     "data": {
      "text/html": [
       "<div>\n",
       "<style scoped>\n",
       "    .dataframe tbody tr th:only-of-type {\n",
       "        vertical-align: middle;\n",
       "    }\n",
       "\n",
       "    .dataframe tbody tr th {\n",
       "        vertical-align: top;\n",
       "    }\n",
       "\n",
       "    .dataframe thead th {\n",
       "        text-align: right;\n",
       "    }\n",
       "</style>\n",
       "<table border=\"1\" class=\"dataframe\">\n",
       "  <thead>\n",
       "    <tr style=\"text-align: right;\">\n",
       "      <th></th>\n",
       "      <th>Proveedor</th>\n",
       "      <th>Nombre sucursal</th>\n",
       "      <th>Dirección</th>\n",
       "      <th>Delegación o municipio</th>\n",
       "    </tr>\n",
       "  </thead>\n",
       "  <tbody>\n",
       "    <tr>\n",
       "      <th>0</th>\n",
       "      <td>Muebles Pergo</td>\n",
       "      <td>Altavista</td>\n",
       "      <td>Altavista # 25, San Angel 01000</td>\n",
       "      <td>Alvaro Obregon</td>\n",
       "    </tr>\n",
       "    <tr>\n",
       "      <th>1</th>\n",
       "      <td>Muebles Pergo</td>\n",
       "      <td>Anillo Vial</td>\n",
       "      <td>Anillo Vial Fray Junipero Serra 7901</td>\n",
       "      <td>Santiago Queretaro</td>\n",
       "    </tr>\n",
       "    <tr>\n",
       "      <th>2</th>\n",
       "      <td>Muebles Pergo</td>\n",
       "      <td>Plaza Americas</td>\n",
       "      <td>Plaza Malecon AmericasAv. Bonampak SM 6 MZ 1 ...</td>\n",
       "      <td>Cancun</td>\n",
       "    </tr>\n",
       "    <tr>\n",
       "      <th>3</th>\n",
       "      <td>Muebles Pergo</td>\n",
       "      <td>Centro Comercial Interlomas</td>\n",
       "      <td>Centro Comercial Interlomas Blvd Interlomas 5</td>\n",
       "      <td>Huixquilucan de Degollado</td>\n",
       "    </tr>\n",
       "    <tr>\n",
       "      <th>4</th>\n",
       "      <td>Muebles Pergo</td>\n",
       "      <td>Paseo Interlomas</td>\n",
       "      <td>Vialidad de La Barranca 6 Bosque de las Palma...</td>\n",
       "      <td>Huixquilucan</td>\n",
       "    </tr>\n",
       "    <tr>\n",
       "      <th>5</th>\n",
       "      <td>Muebles Pergo</td>\n",
       "      <td>La Isla</td>\n",
       "      <td>Angelopolis Osa Mayor 2902 Interior 11 Concep...</td>\n",
       "      <td>Heroica Puebla de Zaragoza</td>\n",
       "    </tr>\n",
       "    <tr>\n",
       "      <th>6</th>\n",
       "      <td>Muebles Pergo</td>\n",
       "      <td>Paseo Interlomas II</td>\n",
       "      <td>Locales APB-20 y APB-21Vialidad de La Barranca...</td>\n",
       "      <td>Huixquilucan</td>\n",
       "    </tr>\n",
       "  </tbody>\n",
       "</table>\n",
       "</div>"
      ],
      "text/plain": [
       "       Proveedor               Nombre sucursal  \\\n",
       "0  Muebles Pergo                     Altavista   \n",
       "1  Muebles Pergo                   Anillo Vial   \n",
       "2  Muebles Pergo                Plaza Americas   \n",
       "3  Muebles Pergo   Centro Comercial Interlomas   \n",
       "4  Muebles Pergo             Paseo Interlomas    \n",
       "5  Muebles Pergo                      La Isla    \n",
       "6  Muebles Pergo           Paseo Interlomas II   \n",
       "\n",
       "                                           Dirección  \\\n",
       "0                   Altavista # 25, San Angel 01000    \n",
       "1               Anillo Vial Fray Junipero Serra 7901   \n",
       "2   Plaza Malecon AmericasAv. Bonampak SM 6 MZ 1 ...   \n",
       "3      Centro Comercial Interlomas Blvd Interlomas 5   \n",
       "4   Vialidad de La Barranca 6 Bosque de las Palma...   \n",
       "5   Angelopolis Osa Mayor 2902 Interior 11 Concep...   \n",
       "6  Locales APB-20 y APB-21Vialidad de La Barranca...   \n",
       "\n",
       "        Delegación o municipio  \n",
       "0               Alvaro Obregon  \n",
       "1           Santiago Queretaro  \n",
       "2                       Cancun  \n",
       "3    Huixquilucan de Degollado  \n",
       "4                 Huixquilucan  \n",
       "5   Heroica Puebla de Zaragoza  \n",
       "6                 Huixquilucan  "
      ]
     },
     "execution_count": 113,
     "metadata": {},
     "output_type": "execute_result"
    }
   ],
   "source": [
    "#View of the final Data Frame, this information is clean and ready to be loaded to a Mongo DB database\n",
    "sucursalesMuebles"
   ]
  },
  {
   "cell_type": "code",
   "execution_count": 114,
   "metadata": {},
   "outputs": [],
   "source": [
    "#We transform the dataframe into a json object.\n",
    "#Unfortunelly we can´t load this object directly to Mongo DB data base.\n",
    "\n",
    "sucursalesMuebles_json=sucursalesMuebles.to_json(None, orient='records')"
   ]
  },
  {
   "cell_type": "code",
   "execution_count": 115,
   "metadata": {},
   "outputs": [
    {
     "data": {
      "text/plain": [
       "'[{\"Proveedor\":\"Muebles Pergo\",\"Nombre sucursal\":\"Altavista\",\"Direcci\\\\u00f3n\":\" Altavista # 25, San Angel 01000 \",\"Delegaci\\\\u00f3n o municipio\":\"Alvaro Obregon\"},{\"Proveedor\":\"Muebles Pergo\",\"Nombre sucursal\":\"Anillo Vial\",\"Direcci\\\\u00f3n\":\" Anillo Vial Fray Junipero Serra 7901\",\"Delegaci\\\\u00f3n o municipio\":\"Santiago Queretaro\"},{\"Proveedor\":\"Muebles Pergo\",\"Nombre sucursal\":\"Plaza Americas\",\"Direcci\\\\u00f3n\":\" Plaza Malecon AmericasAv. Bonampak SM 6 MZ 1 LT 177500 \",\"Delegaci\\\\u00f3n o municipio\":\"Cancun\"},{\"Proveedor\":\"Muebles Pergo\",\"Nombre sucursal\":\" Centro Comercial Interlomas\",\"Direcci\\\\u00f3n\":\" Centro Comercial Interlomas Blvd Interlomas 5\",\"Delegaci\\\\u00f3n o municipio\":\" Huixquilucan de Degollado\"},{\"Proveedor\":\"Muebles Pergo\",\"Nombre sucursal\":\" Paseo Interlomas \",\"Direcci\\\\u00f3n\":\" Vialidad de La Barranca 6 Bosque de las Palmas52787 \",\"Delegaci\\\\u00f3n o municipio\":\"Huixquilucan\"},{\"Proveedor\":\"Muebles Pergo\",\"Nombre sucursal\":\"La Isla \",\"Direcci\\\\u00f3n\":\" Angelopolis Osa Mayor 2902 Interior 11 Concepcion De La Cruz\",\"Delegaci\\\\u00f3n o municipio\":\" Heroica Puebla de Zaragoza\"},{\"Proveedor\":\"Muebles Pergo\",\"Nombre sucursal\":\" Paseo Interlomas II\",\"Direcci\\\\u00f3n\":\"Locales APB-20 y APB-21Vialidad de La Barranca 6 Bosque de las Palmas 52787 \",\"Delegaci\\\\u00f3n o municipio\":\"Huixquilucan\"}]'"
      ]
     },
     "execution_count": 115,
     "metadata": {},
     "output_type": "execute_result"
    }
   ],
   "source": [
    "sucursalesMuebles_json"
   ]
  },
  {
   "cell_type": "code",
   "execution_count": 116,
   "metadata": {},
   "outputs": [],
   "source": [
    "#We tried tranforming each row of data frame at time into a json format\n",
    "#We couldn´t load the information because Mongo DB reads this information as  STRING\n",
    "#this step is neccesary in order to transform STR into dict in a later step\n",
    "import ast\n",
    "datos=sucursalesMuebles.apply(lambda x: x.to_json(), axis=1)\n",
    "for element in datos:\n",
    "    json.dumps(json.loads(element),indent=4,sort_keys=True)"
   ]
  },
  {
   "cell_type": "code",
   "execution_count": 117,
   "metadata": {},
   "outputs": [],
   "source": [
    "#Connecting to Database\n",
    "#Import Dependencies \n",
    "import pymongo"
   ]
  },
  {
   "cell_type": "code",
   "execution_count": 118,
   "metadata": {},
   "outputs": [],
   "source": [
    "#Remember we Mongo DB running\n",
    "#Settling conection\n",
    "conn = 'mongodb://localhost:27017'\n",
    "client = pymongo.MongoClient(conn)"
   ]
  },
  {
   "cell_type": "code",
   "execution_count": 119,
   "metadata": {},
   "outputs": [],
   "source": [
    "#Creating a Database\n",
    "db = client.laboratoriosDB"
   ]
  },
  {
   "cell_type": "code",
   "execution_count": 120,
   "metadata": {},
   "outputs": [],
   "source": [
    "#Creating a Class\n",
    "direcciones = db.direcciones.find()"
   ]
  },
  {
   "cell_type": "code",
   "execution_count": 121,
   "metadata": {},
   "outputs": [
    {
     "name": "stdout",
     "output_type": "stream",
     "text": [
      "<pymongo.cursor.Cursor object at 0x00000271CBDEF978>\n"
     ]
    }
   ],
   "source": [
    "print(direcciones)"
   ]
  },
  {
   "cell_type": "code",
   "execution_count": 122,
   "metadata": {},
   "outputs": [
    {
     "name": "stderr",
     "output_type": "stream",
     "text": [
      "C:\\Users\\JESICA\\Anaconda3.5\\envs\\gdal_env\\lib\\site-packages\\ipykernel_launcher.py:3: DeprecationWarning: insert is deprecated. Use insert_one or insert_many instead.\n",
      "  This is separate from the ipykernel package so we can avoid doing imports until\n"
     ]
    }
   ],
   "source": [
    "#Inserting json objects to laboratoriosDB\n",
    "#After trasnforming each data frame row into json format, we realized MongoDB reads all our information as STR, to solve that problem we\n",
    "#use the method eval-, eval trasnform str to a dic, so we did a loop to trasnform each row and insert row by row into the DataBase \n",
    "#with .insert\n",
    "for row in datos:\n",
    "    basedic=(eval(row))\n",
    "    db.direcciones.insert(basedic)"
   ]
  },
  {
   "cell_type": "code",
   "execution_count": 123,
   "metadata": {},
   "outputs": [],
   "source": [
    "#Consulting DB\n",
    "ubicaciones= db.direcciones.find()"
   ]
  },
  {
   "cell_type": "code",
   "execution_count": 124,
   "metadata": {},
   "outputs": [
    {
     "name": "stdout",
     "output_type": "stream",
     "text": [
      "{'_id': ObjectId('5d5f50a6f1b20ad42358504a'), 'Laboratorio': 'Laboratorios Medicos Polanco', 'Nombre sucursal': 'Agrícola Oriental', 'Dirección': 'Calle: Av. Javier Rojo Gómez No. 382', 'Delegación o municipio': 'Iztacalco', 'Colonia': 'Agrícola Oriental', 'LAT': 19.391767, 'LONG': -99.073786}\n",
      "{'_id': ObjectId('5d5f50a7f1b20ad42358504b'), 'Laboratorio': 'Laboratorios Medicos Polanco', 'Nombre sucursal': 'Alamedas Atizapán', 'Dirección': 'Calle: Multiplaza Alamedas Loc. 14-15', 'Delegación o municipio': 'Atizapán de Zaragoza', 'Colonia': 'Frac. las Alamedas', 'LAT': 19.554801, 'LONG': -99.242436}\n",
      "{'_id': ObjectId('5d5f50a7f1b20ad42358504c'), 'Laboratorio': 'Laboratorios Medicos Polanco', 'Nombre sucursal': 'Aragón', 'Dirección': 'Calle: Calle 34 Local 1', 'Delegación o municipio': 'Nezahualcóyotl', 'Colonia': 'Jardínes de Guadalupe', 'LAT': 19.478164, 'LONG': -99.053915}\n",
      "{'_id': ObjectId('5d5f50a7f1b20ad42358504d'), 'Laboratorio': 'Laboratorios Medicos Polanco', 'Nombre sucursal': 'Azcapotzalco', 'Dirección': 'Calle: Av. 16 de Septiembre No. 33', 'Delegación o municipio': 'Azcapotzalco', 'Colonia': 'Azcapotzalco Centro', 'LAT': 19.477977, 'LONG': -99.185871}\n",
      "{'_id': ObjectId('5d5f50a7f1b20ad42358504e'), 'Laboratorio': 'Laboratorios Medicos Polanco', 'Nombre sucursal': 'Bosques del Lago', 'Dirección': 'Calle: Circuito Bosques de Bolognias N°225', 'Delegación o municipio': 'Cuautitlán Izcalli', 'Colonia': 'Bosques del Lago', 'LAT': 19.61531, 'LONG': -99.24047}\n",
      "{'_id': ObjectId('5d5f50a7f1b20ad42358504f'), 'Laboratorio': 'Laboratorios Medicos Polanco', 'Nombre sucursal': 'Centro Médico Cuauhtémoc', 'Dirección': 'Calle: Av. Cuauhtémoc No.379', 'Delegación o municipio': 'Cuauhtémoc', 'Colonia': 'Roma Sur', 'LAT': 19.407345, 'LONG': -99.155272}\n",
      "{'_id': ObjectId('5d5f50a7f1b20ad423585050'), 'Laboratorio': 'Laboratorios Medicos Polanco', 'Nombre sucursal': 'City Xochimilco', 'Dirección': 'Calle: Av. Guadalupe I. Ramirez N° 610', 'Delegación o municipio': 'Xochimilco', 'Colonia': 'Tierra Nueva', 'LAT': 19.26779, 'LONG': -99.12429}\n",
      "{'_id': ObjectId('5d5f50a7f1b20ad423585051'), 'Laboratorio': 'Laboratorios Medicos Polanco', 'Nombre sucursal': 'Coacalco', 'Dirección': 'Calle: Vía José López Portillo No. 160 Local B', 'Delegación o municipio': 'Coacalco de Berriozábal', 'Colonia': 'Santa María Magdalena Huizachitla', 'LAT': 19.631851, 'LONG': -99.092043}\n",
      "{'_id': ObjectId('5d5f50a7f1b20ad423585052'), 'Laboratorio': 'Laboratorios Medicos Polanco', 'Nombre sucursal': 'Cuajimalpa', 'Dirección': 'Calle: Av. José Maria Castorena No. 320 (Plaza del Monte)', 'Delegación o municipio': 'Cuajimalpa de Morelos', 'Colonia': 'Cuajimalpa', 'LAT': 19.360521, 'LONG': -99.29183}\n",
      "{'_id': ObjectId('5d5f50a7f1b20ad423585053'), 'Laboratorio': 'Laboratorios Medicos Polanco', 'Nombre sucursal': 'Del Valle', 'Dirección': 'Calle: Av. Eugenia No. 425', 'Delegación o municipio': 'Benito Juárez', 'Colonia': 'Del Valle Centro', 'LAT': 19.387878, 'LONG': -99.170106}\n",
      "{'_id': ObjectId('5d5f50a7f1b20ad423585054'), 'Laboratorio': 'Laboratorios Medicos Polanco', 'Nombre sucursal': 'Eduardo Molina', 'Dirección': 'Calle: Fray Toribio de Benavente No. 165 local 6,', 'Delegación o municipio': 'Gustavo A. Madero', 'Colonia': 'Vasco de Quiroga', 'LAT': 19.49758, 'LONG': -99.09043}\n",
      "{'_id': ObjectId('5d5f50a7f1b20ad423585055'), 'Laboratorio': 'Laboratorios Medicos Polanco', 'Nombre sucursal': 'Ermita', 'Dirección': 'Calle: Avenida Ermita Iztapalapa No. 927', 'Delegación o municipio': 'Iztapalapa', 'Colonia': 'Santa Isabel Industrial', 'LAT': 19.355734, 'LONG': -99.101457}\n",
      "{'_id': ObjectId('5d5f50a7f1b20ad423585056'), 'Laboratorio': 'Laboratorios Medicos Polanco', 'Nombre sucursal': 'Glorieta de Insurgentes', 'Dirección': 'Calle: Av. Insurgentes Local de la glorieta No.30', 'Delegación o municipio': 'Cuauhtémoc', 'Colonia': 'Roma', 'LAT': 19.42312, 'LONG': -99.162838}\n",
      "{'_id': ObjectId('5d5f50a7f1b20ad423585057'), 'Laboratorio': 'Laboratorios Medicos Polanco', 'Nombre sucursal': 'Holbein', 'Dirección': 'Calle: Calle Atlanta Local D. No. 134', 'Delegación o municipio': 'Benito Juárez', 'Colonia': 'Ciudad de los Deportes', 'LAT': 19.38183, 'LONG': -99.17934}\n",
      "{'_id': ObjectId('5d5f50a7f1b20ad423585058'), 'Laboratorio': 'Laboratorios Medicos Polanco', 'Nombre sucursal': 'Independencia', 'Dirección': 'Calle: Av. Lázaro Cárdenas #1030', 'Delegación o municipio': 'Benito Juárez', 'Colonia': 'Independencia', 'LAT': 19.379422, 'LONG': -99.148056}\n",
      "{'_id': ObjectId('5d5f50a7f1b20ad423585059'), 'Laboratorio': 'Laboratorios Medicos Polanco', 'Nombre sucursal': 'Interlomas', 'Dirección': 'Calle: Av. Jesús del Monte No. 37 Local: 26,  27 y 28', 'Delegación o municipio': 'Huixquilucan', 'Colonia': 'Ex-hacienda Jesús Del Monte', 'LAT': 19.396153, 'LONG': -99.289455}\n",
      "{'_id': ObjectId('5d5f50a7f1b20ad42358505a'), 'Laboratorio': 'Laboratorios Medicos Polanco', 'Nombre sucursal': 'Izcalli', 'Dirección': 'Calle: Avenida 1 de Mayo Mz. C-34 A Lt. 25', 'Delegación o municipio': 'Cuautitlán Izcalli', 'Colonia': 'Centro Urbano', 'LAT': 19.652002, 'LONG': -99.208897}\n",
      "{'_id': ObjectId('5d5f50a7f1b20ad42358505b'), 'Laboratorio': 'Laboratorios Medicos Polanco', 'Nombre sucursal': 'Jardín Balbuena', 'Dirección': 'Calle: Avenida Fray Servando No. 935', 'Delegación o municipio': 'Venustiano Carranza', 'Colonia': 'Jardín Balbuena', 'LAT': 19.417487, 'LONG': -99.103439}\n",
      "{'_id': ObjectId('5d5f50a7f1b20ad42358505c'), 'Laboratorio': 'Laboratorios Medicos Polanco', 'Nombre sucursal': 'Jardines de la Hacienda', 'Dirección': 'Calle: Plaza Acequia Lote 3-6, Calle Acequia', 'Delegación o municipio': 'Cuautitlán Izcalli', 'Colonia': 'Fraccionamiento Jardines de la Hacienda', 'LAT': 19.67427, 'LONG': -99.20396}\n",
      "{'_id': ObjectId('5d5f50a7f1b20ad42358505d'), 'Laboratorio': 'Laboratorios Medicos Polanco', 'Nombre sucursal': 'Jinetes', 'Dirección': 'Calle: Av. Jinetes No. 195', 'Delegación o municipio': 'Atizapán de Zaragoza', 'Colonia': 'Las Arboledas', 'LAT': 19.562001, 'LONG': -99.222611}\n",
      "{'_id': ObjectId('5d5f50a7f1b20ad42358505e'), 'Laboratorio': 'Laboratorios Medicos Polanco', 'Nombre sucursal': 'La Raza', 'Dirección': 'Calle: Calzada Vallejo No. 294', 'Delegación o municipio': 'Azcapotzalco', 'Colonia': 'San Francisco Xocotitla Pueblo', 'LAT': 19.467589, 'LONG': -99.144413}\n",
      "{'_id': ObjectId('5d5f50a7f1b20ad42358505f'), 'Laboratorio': 'Laboratorios Medicos Polanco', 'Nombre sucursal': 'La Viga', 'Dirección': 'Calle: Calzada La Viga # 1368', 'Delegación o municipio': 'Iztapalapa', 'Colonia': 'San Juanico Nextipac', 'LAT': 19.373647, 'LONG': -99.122334}\n",
      "{'_id': ObjectId('5d5f50a7f1b20ad423585060'), 'Laboratorio': 'Laboratorios Medicos Polanco', 'Nombre sucursal': 'Las Águilas 2', 'Dirección': 'Calle: Calzada Las Águilas  No. 1168', 'Delegación o municipio': 'Álvaro Obregón', 'Colonia': 'Col. San Clemente Sur', 'LAT': 19.348907, 'LONG': -99.226746}\n",
      "{'_id': ObjectId('5d5f50a7f1b20ad423585061'), 'Laboratorio': 'Laboratorios Medicos Polanco', 'Nombre sucursal': 'Lindavista-Montevideo', 'Dirección': 'Calle: Av. Montevideo No.191, Lindavista', 'Delegación o municipio': 'Gustavo A. Madero', 'Colonia': 'Lindavista Sur', 'LAT': 19.488751, 'LONG': -99.127667}\n",
      "{'_id': ObjectId('5d5f50a7f1b20ad423585062'), 'Laboratorio': 'Laboratorios Medicos Polanco', 'Nombre sucursal': 'Lomas Verdes', 'Dirección': 'Calle: Av. Lomas Verdes No. 80', 'Delegación o municipio': 'Naucalpan de Juárez', 'Colonia': 'Boulevares Fraccionamiento', 'LAT': 19.496464, 'LONG': -99.249292}\n",
      "{'_id': ObjectId('5d5f50a7f1b20ad423585063'), 'Laboratorio': 'Laboratorios Medicos Polanco', 'Nombre sucursal': 'Miguel Ángel de Quevedo', 'Dirección': 'Calle: Avenida Miguel Ángel de Quevedo No. 869', 'Delegación o municipio': 'Coyoacán', 'Colonia': 'La Concepción Barrio', 'LAT': 19.343416, 'LONG': -99.156431}\n",
      "{'_id': ObjectId('5d5f50a7f1b20ad423585064'), 'Laboratorio': 'Laboratorios Medicos Polanco', 'Nombre sucursal': 'Mixcoac', 'Dirección': 'Calle: Av. Molinos No. 50', 'Delegación o municipio': 'Benito Juárez', 'Colonia': 'Mixcoac', 'LAT': 19.37253, 'LONG': -99.19053}\n",
      "{'_id': ObjectId('5d5f50a7f1b20ad423585065'), 'Laboratorio': 'Laboratorios Medicos Polanco', 'Nombre sucursal': 'Multi Plaza Aragón', 'Dirección': 'Calle: Av. Carlos Hank González No. 120 Local 173', 'Delegación o municipio': 'Ecatepec de Morelos', 'Colonia': 'Rinconada de Aragón Fraccionamiento', 'LAT': 19.531157, 'LONG': -99.028555}\n",
      "{'_id': ObjectId('5d5f50a7f1b20ad423585066'), 'Laboratorio': 'Laboratorios Medicos Polanco', 'Nombre sucursal': 'Narvarte', 'Dirección': 'Calle: Dr. José María\\xa0Vertíz 1295', 'Delegación o municipio': 'Benito Juárez', 'Colonia': 'Vertiz Narvarte', 'LAT': 19.375041, 'LONG': -99.154487}\n",
      "{'_id': ObjectId('5d5f50a7f1b20ad423585067'), 'Laboratorio': 'Laboratorios Medicos Polanco', 'Nombre sucursal': 'Palmas', 'Dirección': 'Calle: Avenida de las Palmas No. 745 Piso 3, Despacho  306', 'Delegación o municipio': 'Miguel Hidalgo', 'Colonia': 'Lomas de Chapultepec I Sección', 'LAT': 19.429516, 'LONG': -99.215326}\n",
      "{'_id': ObjectId('5d5f50a7f1b20ad423585068'), 'Laboratorio': 'Laboratorios Medicos Polanco', 'Nombre sucursal': 'Patriotismo', 'Dirección': 'Calle: Av. Patriotismo No. 147, Local A', 'Delegación o municipio': 'Miguel Hidalgo', 'Colonia': 'Escandón II Sección.', 'LAT': 19.399264, 'LONG': -99.180064}\n",
      "{'_id': ObjectId('5d5f50a7f1b20ad423585069'), 'Laboratorio': 'Laboratorios Medicos Polanco', 'Nombre sucursal': 'Plaza Cantil', 'Dirección': 'Calle: Av. Aztecas 270', 'Delegación o municipio': 'Coyoacán', 'Colonia': 'Los Reyes', 'LAT': 19.3287023, 'LONG': -99.1536418}\n",
      "{'_id': ObjectId('5d5f50a7f1b20ad42358506a'), 'Laboratorio': 'Laboratorios Medicos Polanco', 'Nombre sucursal': 'Plaza Inn', 'Dirección': 'Calle: Insurgentes Sur No. 1971 Local 231 y 232', 'Delegación o municipio': 'Álvaro Obregón', 'Colonia': 'Guadalupe Inn', 'LAT': 19.351659, 'LONG': -99.18633}\n",
      "{'_id': ObjectId('5d5f50a7f1b20ad42358506b'), 'Laboratorio': 'Laboratorios Medicos Polanco', 'Nombre sucursal': 'Plaza Miramontes', 'Dirección': 'Calle: Avenida Canal de Miramontes No. 2600 Local C 21', 'Delegación o municipio': 'Coyoacán', 'Colonia': 'Los Cipreses', 'LAT': 19.320762, 'LONG': -99.132471}\n",
      "{'_id': ObjectId('5d5f50a7f1b20ad42358506c'), 'Laboratorio': 'Laboratorios Medicos Polanco', 'Nombre sucursal': 'Plaza Satélite', 'Dirección': 'Calle: Avenida Circuito Centro Comercial No. 16 C', 'Delegación o municipio': 'Naucalpan de Juárez', 'Colonia': 'Ciudad Satélite Fraccionamiento', 'LAT': 19.507016, 'LONG': -99.233633}\n",
      "{'_id': ObjectId('5d5f50a7f1b20ad42358506d'), 'Laboratorio': 'Laboratorios Medicos Polanco', 'Nombre sucursal': 'Polanco', 'Dirección': 'Calle: Avenida Ejército Nacional No. 963', 'Delegación o municipio': 'Miguel Hidalgo', 'Colonia': 'Irrigación', 'LAT': 19.438817, 'LONG': -99.206153}\n",
      "{'_id': ObjectId('5d5f50a7f1b20ad42358506e'), 'Laboratorio': 'Laboratorios Medicos Polanco', 'Nombre sucursal': 'Roma', 'Dirección': 'Calle: Álvaro Obregón No.121 Planta Baja', 'Delegación o municipio': 'Cuauhtémoc', 'Colonia': 'Roma Norte', 'LAT': 19.418435, 'LONG': -99.160355}\n",
      "{'_id': ObjectId('5d5f50a7f1b20ad42358506f'), 'Laboratorio': 'Laboratorios Medicos Polanco', 'Nombre sucursal': 'San Isidro', 'Dirección': 'Calle: Calzada San Isidro No. 660', 'Delegación o municipio': 'Azcapotzalco', 'Colonia': 'San Pedro Xalpa', 'LAT': 19.4859, 'LONG': -99.21205}\n",
      "{'_id': ObjectId('5d5f50a7f1b20ad423585070'), 'Laboratorio': 'Laboratorios Medicos Polanco', 'Nombre sucursal': 'San Jerónimo', 'Dirección': 'Calle: Avenida San Jerónimo No. 630 Loc HO 13 y 14, (Centro Comercial San Jerónimo)', 'Delegación o municipio': 'Álvaro Obregón', 'Colonia': 'La Otra Banda Barrio', 'LAT': 19.330446, 'LONG': -99.208393}\n",
      "{'_id': ObjectId('5d5f50a7f1b20ad423585071'), 'Laboratorio': 'Laboratorios Medicos Polanco', 'Nombre sucursal': 'San Lorenzo', 'Dirección': 'Calle: Calzada de San Lorenzo No. 60', 'Delegación o municipio': 'Iztapalapa', 'Colonia': 'Esther Zuno de Echeverría', 'LAT': 19.32071, 'LONG': -99.07566}\n",
      "{'_id': ObjectId('5d5f50a7f1b20ad423585072'), 'Laboratorio': 'Laboratorios Medicos Polanco', 'Nombre sucursal': 'Santa Teresa', 'Dirección': 'Calle: Plaza Santa Teresa Blvd. Adolfo Ruíz Cortines #4020 Local 8A', 'Delegación o municipio': 'Álvaro Obregón', 'Colonia': 'Jardínes del Pedregal', 'LAT': 19.307436, 'LONG': -99.213913}\n",
      "{'_id': ObjectId('5d5f50a7f1b20ad423585073'), 'Laboratorio': 'Laboratorios Medicos Polanco', 'Nombre sucursal': 'Tláhuac', 'Dirección': 'Calle: Cenicienta #204, Esquina Av. La Turba', 'Delegación o municipio': 'Tláhuac', 'Colonia': 'Miguel Hidalgo', 'LAT': 19.286746, 'LONG': -99.046487}\n",
      "{'_id': ObjectId('5d5f50a7f1b20ad423585074'), 'Laboratorio': 'Laboratorios Medicos Polanco', 'Nombre sucursal': 'Tlalpan', 'Dirección': 'Calle: Insurgentes Sur No.3827', 'Delegación o municipio': 'Tlalpan', 'Colonia': 'La Fama Barrio', 'LAT': 19.291904, 'LONG': -99.175987}\n",
      "{'_id': ObjectId('5d5f50a7f1b20ad423585075'), 'Laboratorio': 'Laboratorios Medicos Polanco', 'Nombre sucursal': 'Town Center El Rosario', 'Dirección': 'Calle: Av. el Rosario No. 1025 Local H10', 'Delegación o municipio': 'Azcapotzalco', 'Colonia': 'Tierra Nueva', 'LAT': 19.50264, 'LONG': -99.203864}\n",
      "{'_id': ObjectId('5d5f50a7f1b20ad423585076'), 'Laboratorio': 'Laboratorios Medicos Polanco', 'Nombre sucursal': 'Satélite Centro Cívico', 'Dirección': 'Calle: Circuito Centro Comercial # 17 lote 5 manzana 6', 'Delegación o municipio': 'Naucalpan de Juárez', 'Colonia': 'Ciudad Satélite Fraccionamiento', 'LAT': 19.514262, 'LONG': -99.231277}\n",
      "{'_id': ObjectId('5d5f50a7f1b20ad423585077'), 'Laboratorio': 'Laboratorios Medicos Polanco', 'Nombre sucursal': 'Tlalnepantla', 'Dirección': 'Calle: Multiplaza Arboledas Vía Gustavo Baz 2000 Local 30', 'Delegación o municipio': 'Tlalnepantla de Baz', 'Colonia': 'Centro Industrial Tlalnepantla Zona Industrial', 'LAT': 19.546364, 'LONG': -99.209054}\n",
      "{'_id': ObjectId('5d5f50a7f1b20ad423585078'), 'Laboratorio': 'Laboratorios Medicos Polanco', 'Nombre sucursal': 'Tlalpan Hospitales', 'Dirección': 'Calle: Calz. de Tlalpan No. 4655  Local 1-D', 'Delegación o municipio': 'Tlalpan', 'Colonia': 'Toriello Guerra', 'LAT': 19.293806, 'LONG': -99.157588}\n",
      "{'_id': ObjectId('5d5f50a7f1b20ad423585079'), 'Laboratorio': 'Laboratorios Medicos Polanco', 'Nombre sucursal': 'Universidad', 'Dirección': 'Calle: Avenida  Universidad No. 230', 'Delegación o municipio': 'Benito Juárez', 'Colonia': 'Narvarte Poniente', 'LAT': 19.390627, 'LONG': -99.151998}\n",
      "{'_id': ObjectId('5d5f50a7f1b20ad42358507a'), 'Laboratorio': 'Laboratorios Medicos Polanco', 'Nombre sucursal': 'Villa Coapa', 'Dirección': 'Calle: Avenida Canal de Miramontes No. 3280 Local 18', 'Delegación o municipio': 'Tlalpan', 'Colonia': 'Residencial Villa Coapa', 'LAT': 19.295793, 'LONG': -99.125218}\n",
      "{'_id': ObjectId('5d5f50a7f1b20ad42358507b'), 'Laboratorio': 'Laboratorios Medicos Polanco', 'Nombre sucursal': 'Villas del Real Tecámac', 'Dirección': 'Calle: Carretera Federal México Pachuca KM 34', 'Delegación o municipio': 'Tecámac', 'Colonia': 'Villas del Renacimiento', 'LAT': 19.68803, 'LONG': -98.98817}\n",
      "{'_id': ObjectId('5d5f50a7f1b20ad42358507c'), 'Laboratorio': 'Laboratorios Medicos Polanco', 'Nombre sucursal': 'Toluca Centro', 'Dirección': 'Calle: Hidalgo 406 - B', 'Delegación o municipio': 'Toluca', 'Colonia': 'Toluca de Lerdo Centro', 'LAT': 19.290245, 'LONG': -99.658926}\n",
      "{'_id': ObjectId('5d5f50a7f1b20ad42358507d'), 'Laboratorio': 'Laboratorios Medicos Polanco', 'Nombre sucursal': 'Toluca Plaza IZAR Metepec', 'Dirección': 'Calle: Leona Vicario No. 936 Planta Alta', 'Delegación o municipio': 'Metepec', 'Colonia': 'Ex-hacienda de Purísima', 'LAT': 19.261597, 'LONG': -99.620322}\n",
      "{'_id': ObjectId('5d5f50a7f1b20ad42358507e'), 'Laboratorio': 'Laboratorios Medicos Polanco', 'Nombre sucursal': 'Toluca Valle Don Camilo', 'Dirección': 'Calle: Prolongación 5 de Mayo No. 820 P.B.', 'Delegación o municipio': 'Toluca', 'Colonia': 'Valle de Don Camilo', 'LAT': 19.275744, 'LONG': -99.635614}\n",
      "{'_id': ObjectId('5d5f50a7f1b20ad42358507f'), 'Laboratorio': 'Laboratorios Medicos Polanco', 'Nombre sucursal': 'Querétaro Constituyentes', 'Dirección': 'Calle: Avenida Constituyentes No. 69, Local B y C, Planta Baja', 'Delegación o municipio': 'Querétaro', 'Colonia': 'Casa Blanca', 'LAT': 20.58176, 'LONG': -100.397836}\n",
      "{'_id': ObjectId('5d5f50a7f1b20ad423585080'), 'Laboratorio': 'Laboratorios Medicos Polanco', 'Nombre sucursal': 'Querétaro Loma Dorada', 'Dirección': 'Calle: Blvd. Bernardo Quintana No. 145', 'Delegación o municipio': 'Querétaro', 'Colonia': 'Loma Dorada', 'LAT': 20.593592, 'LONG': -100.368578}\n",
      "{'_id': ObjectId('5d5f50a7f1b20ad423585081'), 'Laboratorio': 'Laboratorios Medicos Polanco', 'Nombre sucursal': 'Querétaro Plaza del Parque', 'Dirección': 'Calle: Prolongación Corregidora Norte, No.691, Centro Comercial Plaza del Parque, Local 18-A Secc. D', 'Delegación o municipio': 'Querétaro', 'Colonia': 'Parques Industriales', 'LAT': 20.614542, 'LONG': -100.390919}\n",
      "{'_id': ObjectId('5d5f50a7f1b20ad423585082'), 'Laboratorio': 'Laboratorios Medicos Polanco', 'Nombre sucursal': 'Querétaro Plaza Quiwi', 'Dirección': 'Calle: Anillo Vial Fray Junipero Sierra N° 9390, Local 5 y 6 (Plaza Quiwi)', 'Delegación o municipio': 'Querétaro', 'Colonia': 'El Refugio', 'LAT': 20.64613, 'LONG': -100.3443518}\n",
      "{'_id': ObjectId('5d5f50a7f1b20ad423585083'), 'Laboratorio': 'Laboratorios Medicos Polanco', 'Nombre sucursal': 'Querétaro Sur 40', 'Dirección': 'Calle: Blvd. Centro Sur No.40, Local 13 y 14', 'Delegación o municipio': 'Querétaro', 'Colonia': 'La Alhambra', 'LAT': 20.561821, 'LONG': -100.373014}\n",
      "{'_id': ObjectId('5d5f50a7f1b20ad423585084'), 'Laboratorio': 'Laboratorios Medicos Polanco', 'Nombre sucursal': 'Las Quintas', 'Dirección': 'Calle: Av. Gustavo Díaz Ordaz 19 (Plaza Platino)', 'Delegación o municipio': 'Cuernavaca', 'Colonia': 'Cantarranas', 'LAT': 18.917628, 'LONG': -99.218748}\n",
      "{'_id': ObjectId('5d5f50a7f1b20ad423585085'), 'Laboratorio': 'Laboratorios Medicos Polanco', 'Nombre sucursal': 'Crucero', 'Dirección': 'Calle: Av. Tulum Lt.31, Súper Manzana 65, Mz.5', 'Delegación o municipio': 'Cancún', 'Colonia': 'Quintana Roo, México', 'LAT': 21.17629, 'LONG': -86.82808}\n",
      "{'_id': ObjectId('5d5f50a7f1b20ad423585086'), 'Laboratorio': 'Laboratorios Medicos Polanco', 'Nombre sucursal': 'Huayacán', 'Dirección': 'Calle: Av. Huayacán S\\\\/N, Local 4, Súper Manzana 311', 'Delegación o municipio': 'Cancún', 'Colonia': 'Quintana Roo, México', 'LAT': 21.115987, 'LONG': -86.847938}\n",
      "{'_id': ObjectId('5d5f50a7f1b20ad423585087'), 'Laboratorio': 'Laboratorios Medicos Polanco', 'Nombre sucursal': 'La Luna', 'Dirección': 'Calle: Av. de la Luna, Lote.2 Locales 1 y 2, Súper Manzana 44', 'Delegación o municipio': 'Cancún', 'Colonia': 'Quintana Roo, México', 'LAT': 21.14854, 'LONG': -86.84225}\n",
      "{'_id': ObjectId('5d5f50a7f1b20ad423585088'), 'Laboratorio': 'Laboratorios Medicos Polanco', 'Nombre sucursal': 'Las Torres', 'Dirección': 'Calle: Av. Las Torres Lote1, Súper Manzana 523, Mz.28', 'Delegación o municipio': 'Cancún', 'Colonia': 'Quintana Roo, México', 'LAT': 21.13307, 'LONG': -86.8468}\n",
      "{'_id': ObjectId('5d5f50a7f1b20ad423585089'), 'Laboratorio': 'Laboratorios Medicos Polanco', 'Nombre sucursal': 'López Portillo', 'Dirección': 'Calle: Av. López Portillo Reg.91, Lt 6 y 7, Súper Manzana 91, Mz.60', 'Delegación o municipio': 'Cancún', 'Colonia': 'Quintana Roo, México', 'LAT': 21.16616, 'LONG': -86.84334}\n",
      "{'_id': ObjectId('5d5f50a7f1b20ad42358508a'), 'Laboratorio': 'Laboratorios Medicos Polanco', 'Nombre sucursal': 'Multiplaza Arco Norte', 'Dirección': 'Calle: Paseos del Mar Lote 119-63, Súper Manzana 255, Mz.11', 'Delegación o municipio': 'Cancún', 'Colonia': 'Quintana Roo, México', 'LAT': 21.175093, 'LONG': -86.912548}\n",
      "{'_id': ObjectId('5d5f50a7f1b20ad42358508b'), 'Laboratorio': 'Laboratorios Medicos Polanco', 'Nombre sucursal': 'Multiplaza Lak´in', 'Dirección': 'Calle: Av. Orquideas Mz.101 Lt.1, Súper Manzana 259, El Encanto', 'Delegación o municipio': 'Cancún', 'Colonia': 'Quintana Roo, México', 'LAT': 21.145085, 'LONG': -86.90553}\n",
      "{'_id': ObjectId('5d5f50a7f1b20ad42358508c'), 'Laboratorio': 'Laboratorios Medicos Polanco', 'Nombre sucursal': 'Multiplaza Villas del Mar', 'Dirección': 'Calle: Paseos del Mar Lote 1, Súper Manzana 18', 'Delegación o municipio': 'Cancún', 'Colonia': 'Quintana Roo, México', 'LAT': 21.189208, 'LONG': -86.871325}\n",
      "{'_id': ObjectId('5d5f50a7f1b20ad42358508d'), 'Laboratorio': 'Laboratorios Medicos Polanco', 'Nombre sucursal': 'Plaza Nichupté', 'Dirección': 'Calle: Mz 5 Lote 8-13, Avenida Nichupté, Súper manzana 16', 'Delegación o municipio': 'Cancún', 'Colonia': 'Quintana Roo, México', 'LAT': 21.141599, 'LONG': -86.83128}\n",
      "{'_id': ObjectId('5d5f50a7f1b20ad42358508e'), 'Laboratorio': 'Laboratorios Medicos Polanco', 'Nombre sucursal': 'Polígono Sur', 'Dirección': 'Calle: Av.135 Lt.71, Súper Manzana 321, Mz.72', 'Delegación o municipio': 'Cancún', 'Colonia': 'Quintana Roo, México', 'LAT': 21.1261, 'LONG': -86.87678}\n",
      "{'_id': ObjectId('5d5f50a7f1b20ad42358508f'), 'Laboratorio': 'Laboratorios Medicos Polanco', 'Nombre sucursal': 'Caucel', 'Dirección': 'Calle: Carretera Periférico Lic. Manuel Berzunza Tablaje No. 10113', 'Delegación o municipio': 'Mérida Yucatán', 'Colonia': 'Cd. Caucel', 'LAT': 20.999894, 'LONG': -89.680694}\n",
      "{'_id': ObjectId('5d5f50a7f1b20ad423585090'), 'Laboratorio': 'Laboratorios Medicos Polanco', 'Nombre sucursal': 'Centro', 'Dirección': 'Calle: Calle 69 No.495 entre Calle 60 y Calle 58', 'Delegación o municipio': 'Mérida Yucatán', 'Colonia': 'Centro', 'LAT': 20.962332, 'LONG': -89.623417}\n",
      "{'_id': ObjectId('5d5f50a7f1b20ad423585091'), 'Laboratorio': 'Laboratorios Medicos Polanco', 'Nombre sucursal': 'Circuito Colonias Oriente', 'Dirección': 'Calle: Calle 4 No. 451 C25B y 57', 'Delegación o municipio': 'Mérida Yucatán', 'Colonia': 'Lázaro Cárdenas', 'LAT': 20.968697, 'LONG': -89.591336}\n",
      "{'_id': ObjectId('5d5f50a7f1b20ad423585092'), 'Laboratorio': 'Laboratorios Medicos Polanco', 'Nombre sucursal': 'Circuito Colonias Sur', 'Dirección': 'Calle: Circuito Colonias No. 388 Local 1 x 42 y 44', 'Delegación o municipio': 'Mérida Yucatán', 'Colonia': 'Santa Rosa', 'LAT': 20.938379, 'LONG': -89.6118}\n",
      "{'_id': ObjectId('5d5f50a7f1b20ad423585093'), 'Laboratorio': 'Laboratorios Medicos Polanco', 'Nombre sucursal': 'Itzaes', 'Dirección': 'Calle: Calle 31 No. 130', 'Delegación o municipio': 'Mérida Yucatán', 'Colonia': 'México', 'LAT': 20.986399, 'LONG': -89.639192}\n",
      "{'_id': ObjectId('5d5f50a7f1b20ad423585094'), 'Laboratorio': 'Laboratorios Medicos Polanco', 'Nombre sucursal': 'Macroplaza', 'Dirección': 'Calle: Calle 33 No. 200-A', 'Delegación o municipio': 'Mérida Yucatán', 'Colonia': 'Poligono 108', 'LAT': 20.998565, 'LONG': -89.574232}\n",
      "{'_id': ObjectId('5d5f50a7f1b20ad423585095'), 'Laboratorio': 'Laboratorios Medicos Polanco', 'Nombre sucursal': 'Montejo', 'Dirección': 'Calle: Prolongación Paseo de Montejo Calle 30 No. 103A, Entre calle 21 y Calle 23', 'Delegación o municipio': 'Mérida Yucatán', 'Colonia': 'México', 'LAT': 21.002921, 'LONG': -89.615348}\n",
      "{'_id': ObjectId('5d5f50a7f1b20ad423585096'), 'Laboratorio': 'Laboratorios Medicos Polanco', 'Nombre sucursal': 'Plaza 21', 'Dirección': 'Calle: Av. 21 No. 195, por 12 y 14', 'Delegación o municipio': 'Mérida Yucatán', 'Colonia': 'México Oriente', 'LAT': 21.000547, 'LONG': -89.600867}\n",
      "{'_id': ObjectId('5d5f50a7f1b20ad423585097'), 'Laboratorio': 'Laboratorios Medicos Polanco', 'Nombre sucursal': 'Xcumpich', 'Dirección': 'Calle: Calle 1 # 300 x Calle 22-A y 22-B', 'Delegación o municipio': 'Mérida Yucatán', 'Colonia': 'Col. Bugambilias', 'LAT': 21.030353, 'LONG': -89.634658}\n",
      "{'_id': ObjectId('5d60eca980005b7333d1b13c'), 'Proveedor': 'Muebles Pergo', 'Nombre sucursal': 'Altavista', 'Dirección': ' Altavista # 25, San Angel 01000 ', 'Delegación o municipio': 'Alvaro Obregon'}\n",
      "{'_id': ObjectId('5d60ecaa80005b7333d1b13d'), 'Proveedor': 'Muebles Pergo', 'Nombre sucursal': 'Anillo Vial', 'Dirección': ' Anillo Vial Fray Junipero Serra 7901', 'Delegación o municipio': 'Santiago Queretaro'}\n",
      "{'_id': ObjectId('5d60ecaa80005b7333d1b13e'), 'Proveedor': 'Muebles Pergo', 'Nombre sucursal': 'Plaza Americas', 'Dirección': ' Plaza Malecon AmericasAv. Bonampak SM 6 MZ 1 LT 177500 ', 'Delegación o municipio': 'Cancun'}\n",
      "{'_id': ObjectId('5d60ecaa80005b7333d1b13f'), 'Proveedor': 'Muebles Pergo', 'Nombre sucursal': ' Centro Comercial Interlomas', 'Dirección': ' Centro Comercial Interlomas Blvd Interlomas 5', 'Delegación o municipio': ' Huixquilucan de Degollado'}\n",
      "{'_id': ObjectId('5d60ecaa80005b7333d1b140'), 'Proveedor': 'Muebles Pergo', 'Nombre sucursal': ' Paseo Interlomas ', 'Dirección': ' Vialidad de La Barranca 6 Bosque de las Palmas52787 ', 'Delegación o municipio': 'Huixquilucan'}\n",
      "{'_id': ObjectId('5d60ecaa80005b7333d1b141'), 'Proveedor': 'Muebles Pergo', 'Nombre sucursal': 'La Isla ', 'Dirección': ' Angelopolis Osa Mayor 2902 Interior 11 Concepcion De La Cruz', 'Delegación o municipio': ' Heroica Puebla de Zaragoza'}\n",
      "{'_id': ObjectId('5d60ecaa80005b7333d1b142'), 'Proveedor': 'Muebles Pergo', 'Nombre sucursal': ' Paseo Interlomas II', 'Dirección': 'Locales APB-20 y APB-21Vialidad de La Barranca 6 Bosque de las Palmas 52787 ', 'Delegación o municipio': 'Huixquilucan'}\n"
     ]
    }
   ],
   "source": [
    "#We can see all the information is stored in the Database\n",
    "for ubicacion in ubicaciones:\n",
    "    print(ubicacion)"
   ]
  },
  {
   "cell_type": "code",
   "execution_count": null,
   "metadata": {},
   "outputs": [],
   "source": []
  }
 ],
 "metadata": {
  "kernelspec": {
   "display_name": "Python 3",
   "language": "python",
   "name": "python3"
  },
  "language_info": {
   "codemirror_mode": {
    "name": "ipython",
    "version": 3
   },
   "file_extension": ".py",
   "mimetype": "text/x-python",
   "name": "python",
   "nbconvert_exporter": "python",
   "pygments_lexer": "ipython3",
   "version": "3.7.3"
  }
 },
 "nbformat": 4,
 "nbformat_minor": 2
}
